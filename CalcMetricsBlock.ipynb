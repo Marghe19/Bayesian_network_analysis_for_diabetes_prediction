{
 "cells": [
  {
   "cell_type": "code",
   "execution_count": null,
   "id": "bf3f7e7e-72f5-47b5-a03e-0ac5a1f0a9b1",
   "metadata": {},
   "outputs": [],
   "source": [
    "import pandas as pd\n",
    "from sklearn.model_selection import train_test_split\n",
    "import numpy as np\n",
    "import dask.dataframe as dd\n",
    "# Caricare il dataset\n",
    "df3 = pd.read_csv('df_bayesiana3.csv')\n",
    "\n",
    "print(df3)\n",
    "df3 = df3.drop(columns = ['Unnamed: 0'])\n",
    "\n",
    "df3.replace({7: -1, 9: -1, 77 : -1, 99 : -1, 777: -1, 999: -1, 7777: -1, 9999: -1 ,'nan': -1}, inplace=True)\n",
    "df3.replace(-1.0, np.nan, inplace=True)\n",
    "# Contare i NaN per colonna\n",
    "nan_counts = df3.isna().sum()\n",
    "nan_count_col1 = df3['DIABTYPE'].isna().sum()\n",
    "print(f'Numero di NaN in col1: {nan_count_col1}')\n",
    "# Determinare la soglia\n",
    "soglia = 120000  # Modificare questo valore in base alla soglia desiderata\n",
    "\n",
    "# Se il numero di valori mancanti in una colonna è maggiore della soglia, eliminare la colonna\n",
    "df_cleaned = df3.drop(columns=nan_counts[nan_counts > soglia].index)\n",
    "df_cleaned = df_cleaned.dropna(thresh=df_cleaned.shape[1] - 0)\n",
    "df_sampled = df_cleaned.astype({col: 'float32' for col in df_cleaned.select_dtypes(include='float64').columns})\n",
    "\n",
    "#df_sampled = df_cleaned.replace(np.nan, -1.0)\n",
    "print(df_sampled)\n",
    "df_sampled = df_sampled.drop(columns = ['SMOKE100','INCOME3','_AGEG5YR.1', 'EDUCA'])\n",
    "print(df_sampled.dtypes)\n",
    "\n",
    "train_data, test_data = train_test_split(df_sampled, test_size=0.2, random_state=42)\n",
    "\n",
    "# Reset indici\n",
    "df_test_data = test_data.reset_index(drop=True)\n",
    "df_test_data"
   ]
  },
  {
   "cell_type": "code",
   "execution_count": null,
   "id": "b62153dd-420a-46dd-a5b7-00ea25153867",
   "metadata": {},
   "outputs": [],
   "source": [
    "# Previsione sul test set\n",
    "y_true = test_data['DIABETE4'].values\n",
    "y_pred = []"
   ]
  },
  {
   "cell_type": "code",
   "execution_count": null,
   "id": "c596d64a-9d80-438b-abcf-e92831a835ee",
   "metadata": {},
   "outputs": [],
   "source": [
    "import os\n",
    "BLOCKS_DIR = \"C:\\\\Users\\\\CasaLab1\\\\Desktop\\\\diabete_gruppo4\\\\diabete\"\n",
    "\n",
    "files=[os.path.join(BLOCKS_DIR,x) for x in os.listdir(BLOCKS_DIR) if \"previsioni_blocco\" in x]\n",
    "files.sort(key=lambda x:int(x.split(\"_\")[-1].split(\".\")[0]))\n",
    "for f in files:\n",
    "    with open(f,\"r\") as fp:\n",
    "        y_pred.extend(eval(x.strip()) for x in fp.read().split(\"\\n\") if len(x)>0)"
   ]
  },
  {
   "cell_type": "code",
   "execution_count": null,
   "id": "4c23d14b-df68-4d7c-85a1-167f7a127ea5",
   "metadata": {},
   "outputs": [],
   "source": [
    "from sklearn.metrics import accuracy_score, precision_score, recall_score, f1_score\n",
    "\n",
    "# Rimuovere None dai predetti e dai veri valori corrispondenti\n",
    "y_true_filtered = [yt for yt, yp in zip(y_true, y_pred) if yp is not None]\n",
    "y_pred_filtered = [yp for yp in y_pred if yp is not None]\n",
    "\n",
    "# Calcolare le metriche di valutazione\n",
    "accuracy = accuracy_score(y_true_filtered, y_pred_filtered)\n",
    "precision = precision_score(y_true_filtered, y_pred_filtered, average='macro')  # O 'micro' o 'weighted' a seconda del tuo caso\n",
    "recall = recall_score(y_true_filtered, y_pred_filtered, average='macro')  # O 'micro' o 'weighted'\n",
    "f1 = f1_score(y_true_filtered, y_pred_filtered, average='macro')  # O 'micro' o 'weighted'\n",
    "\n",
    "print(f'Accuracy: {accuracy}')\n",
    "print(f'Precision: {precision}')\n",
    "print(f'Recall: {recall}')\n",
    "print(f'F1 Score: {f1}')\n"
   ]
  },
  {
   "cell_type": "code",
   "execution_count": null,
   "id": "e300262e-ab2b-47df-8f3b-e96d5e9623d0",
   "metadata": {},
   "outputs": [],
   "source": []
  }
 ],
 "metadata": {
  "kernelspec": {
   "display_name": "diabeteGruppo4",
   "language": "python",
   "name": "diabetegruppo4"
  },
  "language_info": {
   "codemirror_mode": {
    "name": "ipython",
    "version": 3
   },
   "file_extension": ".py",
   "mimetype": "text/x-python",
   "name": "python",
   "nbconvert_exporter": "python",
   "pygments_lexer": "ipython3",
   "version": "3.11.7"
  }
 },
 "nbformat": 4,
 "nbformat_minor": 5
}
